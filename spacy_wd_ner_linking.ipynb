{
 "cells": [
  {
   "cell_type": "markdown",
   "metadata": {},
   "source": [
    "## Spacy's NER and WD entity linking\n",
    "\n",
    "We use Spacy to find and type named edntities and also find noun chunks and then try linking them with the wd search"
   ]
  },
  {
   "cell_type": "code",
   "execution_count": 1,
   "metadata": {},
   "outputs": [],
   "source": [
    "import spacy\n",
    "from spacy import displacy\n",
    "from collections import Counter\n",
    "import en_core_web_md  #medium en pipeline\n",
    "\n",
    "import wd_search as wds"
   ]
  },
  {
   "cell_type": "markdown",
   "metadata": {},
   "source": [
    "### Load one of Spacy's language models. This is a medium sized one for English"
   ]
  },
  {
   "cell_type": "code",
   "execution_count": 2,
   "metadata": {},
   "outputs": [
    {
     "name": "stdout",
     "output_type": "stream",
     "text": [
      "spacy_entity_linker\n"
     ]
    }
   ],
   "source": [
    "nlp = spacy.load(\"en_core_web_md\")"
   ]
  },
  {
   "cell_type": "markdown",
   "metadata": {},
   "source": [
    "### Input our text and run it through the Spacy pipeline"
   ]
  },
  {
   "cell_type": "code",
   "execution_count": 3,
   "metadata": {},
   "outputs": [
    {
     "name": "stdout",
     "output_type": "stream",
     "text": [
      "done!\n"
     ]
    }
   ],
   "source": [
    "text = \"\"\"The White House on Friday issued a statement condemning a series of \"brutal\" attacks in West Africa, \n",
    " including the kidnapping of more than 100 schoolgirls and murder of aid workers in Nigeria. White House press \n",
    " secretary Sarah Huckabee Sanders offered the Trump administration's \"deepest sympathies to the families and \n",
    " friends of those killed\" and expressed resolve to hold violent extremists responsible.\n",
    "\n",
    "\"These attacks only strengthen the resolve of the United States and responsible nations to pursue, destroy, and \n",
    " rid the world of those who commit such heinous acts,\" Sanders said.\n",
    "\n",
    "The Trump administration's statement mentioned a terrorist attack Friday in Burkina Faso by armed Islamist militants, \n",
    " which led to the deaths of at least eight members of local security forces. Eight militants were also reportedly \n",
    " killed. Other attacks in the region, which have occurred over the past month, include the abduction of 110 schoolgirls \n",
    " in Nigeria on Feb. 19, and Wednesday's attack that killed four United Nations peacekeepers in Mali. \n",
    "\n",
    "The militants' targets Friday in Burkina Faso included military headquarters and the French Embassy.\n",
    "The State Department issued a travel advisory Friday, urging Americans to avoid traveling to the country. \n",
    "\n",
    "“Terrorist groups continue plotting attacks in Burkina Faso,” the State Department said. “Terrorists may conduct \n",
    " attacks anywhere with little or no warning. Targets could include hotels, restaurants, police stations, customs \n",
    " offices, military posts, and schools.” \n",
    "\"\"\"\n",
    "doc = nlp(text)\n",
    "print(\"done!\")"
   ]
  },
  {
   "cell_type": "markdown",
   "metadata": {},
   "source": [
    "### Display the text marking its entities and their types.  The default types are the 18 types from [Ontonotes](https://catalog.ldc.upenn.edu/docs/LDC2013T19/OntoNotes-Release-5.0.pdf)"
   ]
  },
  {
   "cell_type": "code",
   "execution_count": 4,
   "metadata": {},
   "outputs": [
    {
     "data": {
      "text/html": [
       "<span class=\"tex2jax_ignore\"><div class=\"entities\" style=\"line-height: 2.5; direction: ltr\">\n",
       "<mark class=\"entity\" style=\"background: #7aecec; padding: 0.45em 0.6em; margin: 0 0.25em; line-height: 1; border-radius: 0.35em;\">\n",
       "    The White House\n",
       "    <span style=\"font-size: 0.8em; font-weight: bold; line-height: 1; border-radius: 0.35em; vertical-align: middle; margin-left: 0.5rem\">ORG</span>\n",
       "</mark>\n",
       " on \n",
       "<mark class=\"entity\" style=\"background: #bfe1d9; padding: 0.45em 0.6em; margin: 0 0.25em; line-height: 1; border-radius: 0.35em;\">\n",
       "    Friday\n",
       "    <span style=\"font-size: 0.8em; font-weight: bold; line-height: 1; border-radius: 0.35em; vertical-align: middle; margin-left: 0.5rem\">DATE</span>\n",
       "</mark>\n",
       " issued a statement condemning a series of &quot;brutal&quot; attacks in \n",
       "<mark class=\"entity\" style=\"background: #feca74; padding: 0.45em 0.6em; margin: 0 0.25em; line-height: 1; border-radius: 0.35em;\">\n",
       "    West Africa\n",
       "    <span style=\"font-size: 0.8em; font-weight: bold; line-height: 1; border-radius: 0.35em; vertical-align: middle; margin-left: 0.5rem\">GPE</span>\n",
       "</mark>\n",
       ", </br> including the kidnapping of \n",
       "<mark class=\"entity\" style=\"background: #e4e7d2; padding: 0.45em 0.6em; margin: 0 0.25em; line-height: 1; border-radius: 0.35em;\">\n",
       "    more than 100\n",
       "    <span style=\"font-size: 0.8em; font-weight: bold; line-height: 1; border-radius: 0.35em; vertical-align: middle; margin-left: 0.5rem\">CARDINAL</span>\n",
       "</mark>\n",
       " schoolgirls and murder of aid workers in \n",
       "<mark class=\"entity\" style=\"background: #feca74; padding: 0.45em 0.6em; margin: 0 0.25em; line-height: 1; border-radius: 0.35em;\">\n",
       "    Nigeria\n",
       "    <span style=\"font-size: 0.8em; font-weight: bold; line-height: 1; border-radius: 0.35em; vertical-align: middle; margin-left: 0.5rem\">GPE</span>\n",
       "</mark>\n",
       ". \n",
       "<mark class=\"entity\" style=\"background: #7aecec; padding: 0.45em 0.6em; margin: 0 0.25em; line-height: 1; border-radius: 0.35em;\">\n",
       "    White House\n",
       "    <span style=\"font-size: 0.8em; font-weight: bold; line-height: 1; border-radius: 0.35em; vertical-align: middle; margin-left: 0.5rem\">ORG</span>\n",
       "</mark>\n",
       " press </br> secretary \n",
       "<mark class=\"entity\" style=\"background: #aa9cfc; padding: 0.45em 0.6em; margin: 0 0.25em; line-height: 1; border-radius: 0.35em;\">\n",
       "    Sarah Huckabee Sanders\n",
       "    <span style=\"font-size: 0.8em; font-weight: bold; line-height: 1; border-radius: 0.35em; vertical-align: middle; margin-left: 0.5rem\">PERSON</span>\n",
       "</mark>\n",
       " offered the \n",
       "<mark class=\"entity\" style=\"background: #aa9cfc; padding: 0.45em 0.6em; margin: 0 0.25em; line-height: 1; border-radius: 0.35em;\">\n",
       "    Trump\n",
       "    <span style=\"font-size: 0.8em; font-weight: bold; line-height: 1; border-radius: 0.35em; vertical-align: middle; margin-left: 0.5rem\">PERSON</span>\n",
       "</mark>\n",
       " administration's &quot;deepest sympathies to the families and </br> friends of those killed&quot; and expressed resolve to hold violent extremists responsible.</br></br>&quot;These attacks only strengthen the resolve of \n",
       "<mark class=\"entity\" style=\"background: #feca74; padding: 0.45em 0.6em; margin: 0 0.25em; line-height: 1; border-radius: 0.35em;\">\n",
       "    the United States\n",
       "    <span style=\"font-size: 0.8em; font-weight: bold; line-height: 1; border-radius: 0.35em; vertical-align: middle; margin-left: 0.5rem\">GPE</span>\n",
       "</mark>\n",
       " and responsible nations to pursue, destroy, and </br> rid the world of those who commit such heinous acts,&quot; \n",
       "<mark class=\"entity\" style=\"background: #aa9cfc; padding: 0.45em 0.6em; margin: 0 0.25em; line-height: 1; border-radius: 0.35em;\">\n",
       "    Sanders\n",
       "    <span style=\"font-size: 0.8em; font-weight: bold; line-height: 1; border-radius: 0.35em; vertical-align: middle; margin-left: 0.5rem\">PERSON</span>\n",
       "</mark>\n",
       " said.</br></br>The Trump administration's statement mentioned a terrorist attack \n",
       "<mark class=\"entity\" style=\"background: #bfe1d9; padding: 0.45em 0.6em; margin: 0 0.25em; line-height: 1; border-radius: 0.35em;\">\n",
       "    Friday\n",
       "    <span style=\"font-size: 0.8em; font-weight: bold; line-height: 1; border-radius: 0.35em; vertical-align: middle; margin-left: 0.5rem\">DATE</span>\n",
       "</mark>\n",
       " in \n",
       "<mark class=\"entity\" style=\"background: #feca74; padding: 0.45em 0.6em; margin: 0 0.25em; line-height: 1; border-radius: 0.35em;\">\n",
       "    Burkina Faso\n",
       "    <span style=\"font-size: 0.8em; font-weight: bold; line-height: 1; border-radius: 0.35em; vertical-align: middle; margin-left: 0.5rem\">GPE</span>\n",
       "</mark>\n",
       " by armed \n",
       "<mark class=\"entity\" style=\"background: #c887fb; padding: 0.45em 0.6em; margin: 0 0.25em; line-height: 1; border-radius: 0.35em;\">\n",
       "    Islamist\n",
       "    <span style=\"font-size: 0.8em; font-weight: bold; line-height: 1; border-radius: 0.35em; vertical-align: middle; margin-left: 0.5rem\">NORP</span>\n",
       "</mark>\n",
       " militants, </br> which led to the deaths of \n",
       "<mark class=\"entity\" style=\"background: #e4e7d2; padding: 0.45em 0.6em; margin: 0 0.25em; line-height: 1; border-radius: 0.35em;\">\n",
       "    at least eight\n",
       "    <span style=\"font-size: 0.8em; font-weight: bold; line-height: 1; border-radius: 0.35em; vertical-align: middle; margin-left: 0.5rem\">CARDINAL</span>\n",
       "</mark>\n",
       " members of local security forces. \n",
       "<mark class=\"entity\" style=\"background: #e4e7d2; padding: 0.45em 0.6em; margin: 0 0.25em; line-height: 1; border-radius: 0.35em;\">\n",
       "    Eight\n",
       "    <span style=\"font-size: 0.8em; font-weight: bold; line-height: 1; border-radius: 0.35em; vertical-align: middle; margin-left: 0.5rem\">CARDINAL</span>\n",
       "</mark>\n",
       " militants were also reportedly </br> killed. Other attacks in the region, which have occurred over \n",
       "<mark class=\"entity\" style=\"background: #bfe1d9; padding: 0.45em 0.6em; margin: 0 0.25em; line-height: 1; border-radius: 0.35em;\">\n",
       "    the past month\n",
       "    <span style=\"font-size: 0.8em; font-weight: bold; line-height: 1; border-radius: 0.35em; vertical-align: middle; margin-left: 0.5rem\">DATE</span>\n",
       "</mark>\n",
       ", include the abduction of \n",
       "<mark class=\"entity\" style=\"background: #e4e7d2; padding: 0.45em 0.6em; margin: 0 0.25em; line-height: 1; border-radius: 0.35em;\">\n",
       "    110\n",
       "    <span style=\"font-size: 0.8em; font-weight: bold; line-height: 1; border-radius: 0.35em; vertical-align: middle; margin-left: 0.5rem\">CARDINAL</span>\n",
       "</mark>\n",
       " schoolgirls </br> in \n",
       "<mark class=\"entity\" style=\"background: #feca74; padding: 0.45em 0.6em; margin: 0 0.25em; line-height: 1; border-radius: 0.35em;\">\n",
       "    Nigeria\n",
       "    <span style=\"font-size: 0.8em; font-weight: bold; line-height: 1; border-radius: 0.35em; vertical-align: middle; margin-left: 0.5rem\">GPE</span>\n",
       "</mark>\n",
       " on \n",
       "<mark class=\"entity\" style=\"background: #bfe1d9; padding: 0.45em 0.6em; margin: 0 0.25em; line-height: 1; border-radius: 0.35em;\">\n",
       "    Feb. 19\n",
       "    <span style=\"font-size: 0.8em; font-weight: bold; line-height: 1; border-radius: 0.35em; vertical-align: middle; margin-left: 0.5rem\">DATE</span>\n",
       "</mark>\n",
       ", and \n",
       "<mark class=\"entity\" style=\"background: #bfe1d9; padding: 0.45em 0.6em; margin: 0 0.25em; line-height: 1; border-radius: 0.35em;\">\n",
       "    Wednesday\n",
       "    <span style=\"font-size: 0.8em; font-weight: bold; line-height: 1; border-radius: 0.35em; vertical-align: middle; margin-left: 0.5rem\">DATE</span>\n",
       "</mark>\n",
       "'s attack that killed \n",
       "<mark class=\"entity\" style=\"background: #e4e7d2; padding: 0.45em 0.6em; margin: 0 0.25em; line-height: 1; border-radius: 0.35em;\">\n",
       "    four\n",
       "    <span style=\"font-size: 0.8em; font-weight: bold; line-height: 1; border-radius: 0.35em; vertical-align: middle; margin-left: 0.5rem\">CARDINAL</span>\n",
       "</mark>\n",
       " \n",
       "<mark class=\"entity\" style=\"background: #7aecec; padding: 0.45em 0.6em; margin: 0 0.25em; line-height: 1; border-radius: 0.35em;\">\n",
       "    United Nations\n",
       "    <span style=\"font-size: 0.8em; font-weight: bold; line-height: 1; border-radius: 0.35em; vertical-align: middle; margin-left: 0.5rem\">ORG</span>\n",
       "</mark>\n",
       " peacekeepers in \n",
       "<mark class=\"entity\" style=\"background: #feca74; padding: 0.45em 0.6em; margin: 0 0.25em; line-height: 1; border-radius: 0.35em;\">\n",
       "    Mali\n",
       "    <span style=\"font-size: 0.8em; font-weight: bold; line-height: 1; border-radius: 0.35em; vertical-align: middle; margin-left: 0.5rem\">GPE</span>\n",
       "</mark>\n",
       ". </br></br>The militants' targets \n",
       "<mark class=\"entity\" style=\"background: #bfe1d9; padding: 0.45em 0.6em; margin: 0 0.25em; line-height: 1; border-radius: 0.35em;\">\n",
       "    Friday\n",
       "    <span style=\"font-size: 0.8em; font-weight: bold; line-height: 1; border-radius: 0.35em; vertical-align: middle; margin-left: 0.5rem\">DATE</span>\n",
       "</mark>\n",
       " in \n",
       "<mark class=\"entity\" style=\"background: #feca74; padding: 0.45em 0.6em; margin: 0 0.25em; line-height: 1; border-radius: 0.35em;\">\n",
       "    Burkina Faso\n",
       "    <span style=\"font-size: 0.8em; font-weight: bold; line-height: 1; border-radius: 0.35em; vertical-align: middle; margin-left: 0.5rem\">GPE</span>\n",
       "</mark>\n",
       " included military headquarters and \n",
       "<mark class=\"entity\" style=\"background: #7aecec; padding: 0.45em 0.6em; margin: 0 0.25em; line-height: 1; border-radius: 0.35em;\">\n",
       "    the French Embassy\n",
       "    <span style=\"font-size: 0.8em; font-weight: bold; line-height: 1; border-radius: 0.35em; vertical-align: middle; margin-left: 0.5rem\">ORG</span>\n",
       "</mark>\n",
       ".</br>\n",
       "<mark class=\"entity\" style=\"background: #7aecec; padding: 0.45em 0.6em; margin: 0 0.25em; line-height: 1; border-radius: 0.35em;\">\n",
       "    The State Department\n",
       "    <span style=\"font-size: 0.8em; font-weight: bold; line-height: 1; border-radius: 0.35em; vertical-align: middle; margin-left: 0.5rem\">ORG</span>\n",
       "</mark>\n",
       " issued a travel advisory \n",
       "<mark class=\"entity\" style=\"background: #bfe1d9; padding: 0.45em 0.6em; margin: 0 0.25em; line-height: 1; border-radius: 0.35em;\">\n",
       "    Friday\n",
       "    <span style=\"font-size: 0.8em; font-weight: bold; line-height: 1; border-radius: 0.35em; vertical-align: middle; margin-left: 0.5rem\">DATE</span>\n",
       "</mark>\n",
       ", urging \n",
       "<mark class=\"entity\" style=\"background: #c887fb; padding: 0.45em 0.6em; margin: 0 0.25em; line-height: 1; border-radius: 0.35em;\">\n",
       "    Americans\n",
       "    <span style=\"font-size: 0.8em; font-weight: bold; line-height: 1; border-radius: 0.35em; vertical-align: middle; margin-left: 0.5rem\">NORP</span>\n",
       "</mark>\n",
       " to avoid traveling to the country. </br></br>“Terrorist groups continue plotting attacks in \n",
       "<mark class=\"entity\" style=\"background: #feca74; padding: 0.45em 0.6em; margin: 0 0.25em; line-height: 1; border-radius: 0.35em;\">\n",
       "    Burkina Faso\n",
       "    <span style=\"font-size: 0.8em; font-weight: bold; line-height: 1; border-radius: 0.35em; vertical-align: middle; margin-left: 0.5rem\">GPE</span>\n",
       "</mark>\n",
       ",” \n",
       "<mark class=\"entity\" style=\"background: #7aecec; padding: 0.45em 0.6em; margin: 0 0.25em; line-height: 1; border-radius: 0.35em;\">\n",
       "    the State Department\n",
       "    <span style=\"font-size: 0.8em; font-weight: bold; line-height: 1; border-radius: 0.35em; vertical-align: middle; margin-left: 0.5rem\">ORG</span>\n",
       "</mark>\n",
       " said. “\n",
       "<mark class=\"entity\" style=\"background: #7aecec; padding: 0.45em 0.6em; margin: 0 0.25em; line-height: 1; border-radius: 0.35em;\">\n",
       "    Terrorists\n",
       "    <span style=\"font-size: 0.8em; font-weight: bold; line-height: 1; border-radius: 0.35em; vertical-align: middle; margin-left: 0.5rem\">ORG</span>\n",
       "</mark>\n",
       " may conduct </br> attacks anywhere with little or no warning. Targets could include hotels, restaurants, police stations, customs </br> offices, military posts, and schools.” </br></div></span>"
      ],
      "text/plain": [
       "<IPython.core.display.HTML object>"
      ]
     },
     "metadata": {},
     "output_type": "display_data"
    }
   ],
   "source": [
    "displacy.render(doc, style=\"ent\")"
   ]
  },
  {
   "cell_type": "markdown",
   "metadata": {},
   "source": [
    "### Get the entity mentions and their types"
   ]
  },
  {
   "cell_type": "code",
   "execution_count": 5,
   "metadata": {},
   "outputs": [
    {
     "name": "stdout",
     "output_type": "stream",
     "text": [
      "[('The White House', 'ORG'), ('Friday', 'DATE'), ('West Africa', 'GPE'), ('more than 100', 'CARDINAL'), ('Nigeria', 'GPE'), ('White House', 'ORG'), ('Sarah Huckabee Sanders', 'PERSON'), ('Trump', 'PERSON'), ('the United States', 'GPE'), ('Sanders', 'PERSON'), ('Friday', 'DATE'), ('Burkina Faso', 'GPE'), ('Islamist', 'NORP'), ('at least eight', 'CARDINAL'), ('Eight', 'CARDINAL'), ('the past month', 'DATE'), ('110', 'CARDINAL'), ('Nigeria', 'GPE'), ('Feb. 19', 'DATE'), ('Wednesday', 'DATE'), ('four', 'CARDINAL'), ('United Nations', 'ORG'), ('Mali', 'GPE'), ('Friday', 'DATE'), ('Burkina Faso', 'GPE'), ('the French Embassy', 'ORG'), ('The State Department', 'ORG'), ('Friday', 'DATE'), ('Americans', 'NORP'), ('Burkina Faso', 'GPE'), ('the State Department', 'ORG'), ('Terrorists', 'ORG')]\n"
     ]
    }
   ],
   "source": [
    "spacy_entities = [(X.text, X.label_) for X in doc.ents]\n",
    "print(spacy_entities)"
   ]
  },
  {
   "cell_type": "markdown",
   "metadata": {},
   "source": [
    "### We'll use a simple link function again"
   ]
  },
  {
   "cell_type": "code",
   "execution_count": 6,
   "metadata": {},
   "outputs": [],
   "source": [
    "def link(string, type): # just return the top hit\n",
    "    result = wds.wd_scale_search(string, target_types=[type], dbpedia=0, top=1)\n",
    "    return result[0] if result else {}"
   ]
  },
  {
   "cell_type": "markdown",
   "metadata": {},
   "source": [
    "### Try to link them using their Spacy-recognized types"
   ]
  },
  {
   "cell_type": "code",
   "execution_count": 9,
   "metadata": {},
   "outputs": [
    {
     "name": "stdout",
     "output_type": "stream",
     "text": [
      "done!\n"
     ]
    }
   ],
   "source": [
    "wd_entities = [link(ent[0], ent[1]) for ent in spacy_entities]\n",
    "print('done!')"
   ]
  },
  {
   "cell_type": "code",
   "execution_count": 12,
   "metadata": {},
   "outputs": [
    {
     "name": "stdout",
     "output_type": "stream",
     "text": [
      "('The White House', 'ORG') => ('Q35525', 'White House', 'official residence and workplace of the President of the United States.', 'https://wikidata.org/wiki/Q35525')\n",
      "('Friday', 'DATE') => ('Q130', 'Friday', 'day of the week', 'https://wikidata.org/wiki/Q130')\n",
      "('West Africa', 'GPE') => ('Q953068', 'South-West Africa', 'former country, a mandate of South Africa', 'https://wikidata.org/wiki/Q953068')\n",
      "('more than 100', 'CARDINAL') => ('', '', '', '')\n",
      "('Nigeria', 'GPE') => ('Q1033', 'Nigeria', 'sovereign state in West Africa', 'https://wikidata.org/wiki/Q1033')\n",
      "('White House', 'ORG') => ('Q35525', 'White House', 'official residence and workplace of the President of the United States.', 'https://wikidata.org/wiki/Q35525')\n",
      "('Sarah Huckabee Sanders', 'PERSON') => ('Q27986907', 'Sarah Sanders', 'American political press secretary', 'https://wikidata.org/wiki/Q27986907')\n",
      "('Trump', 'PERSON') => ('Q22686', 'Donald Trump', '45th president of the United States', 'https://wikidata.org/wiki/Q22686')\n",
      "('the United States', 'GPE') => ('Q30', 'United States of America', 'sovereign state in North America', 'https://wikidata.org/wiki/Q30')\n",
      "('Sanders', 'PERSON') => ('Q359442', 'Bernie Sanders', 'American politician', 'https://wikidata.org/wiki/Q359442')\n",
      "('Friday', 'DATE') => ('Q130', 'Friday', 'day of the week', 'https://wikidata.org/wiki/Q130')\n",
      "('Burkina Faso', 'GPE') => ('Q965', 'Burkina Faso', 'sovereign state in Africa', 'https://wikidata.org/wiki/Q965')\n",
      "('Islamist', 'NORP') => ('Q6082858', 'Islamist coalition', '', 'https://wikidata.org/wiki/Q6082858')\n",
      "('at least eight', 'CARDINAL') => ('', '', '', '')\n",
      "('Eight', 'CARDINAL') => ('Q23355', '8', 'natural number', 'https://wikidata.org/wiki/Q23355')\n",
      "('the past month', 'DATE') => ('', '', '', '')\n",
      "('110', 'CARDINAL') => ('Q715456', '110', 'natural number', 'https://wikidata.org/wiki/Q715456')\n",
      "('Nigeria', 'GPE') => ('Q1033', 'Nigeria', 'sovereign state in West Africa', 'https://wikidata.org/wiki/Q1033')\n",
      "('Feb. 19', 'DATE') => ('', '', '', '')\n",
      "('Wednesday', 'DATE') => ('Q128', 'Wednesday', 'day of the week', 'https://wikidata.org/wiki/Q128')\n",
      "('four', 'CARDINAL') => ('Q202', '4', 'natural number', 'https://wikidata.org/wiki/Q202')\n",
      "('United Nations', 'ORG') => ('Q740308', 'UNICEF', 'specialised agency of United Nations', 'https://wikidata.org/wiki/Q740308')\n",
      "('Mali', 'GPE') => ('Q912', 'Mali', 'sovereign state in West Africa', 'https://wikidata.org/wiki/Q912')\n",
      "('Friday', 'DATE') => ('Q130', 'Friday', 'day of the week', 'https://wikidata.org/wiki/Q130')\n",
      "('Burkina Faso', 'GPE') => ('Q965', 'Burkina Faso', 'sovereign state in Africa', 'https://wikidata.org/wiki/Q965')\n",
      "('the French Embassy', 'ORG') => ('Q17490956', 'Embassy of France, Brussels', '', 'https://wikidata.org/wiki/Q17490956')\n",
      "('The State Department', 'ORG') => ('Q789915', 'United States Department of State', 'United States federal executive department\\xa0responsible for foreign affairs', 'https://wikidata.org/wiki/Q789915')\n",
      "('Friday', 'DATE') => ('Q130', 'Friday', 'day of the week', 'https://wikidata.org/wiki/Q130')\n",
      "('Americans', 'NORP') => ('Q846570', 'Americans', 'citizens or residents of the United States of America', 'https://wikidata.org/wiki/Q846570')\n",
      "('Burkina Faso', 'GPE') => ('Q965', 'Burkina Faso', 'sovereign state in Africa', 'https://wikidata.org/wiki/Q965')\n",
      "('the State Department', 'ORG') => ('Q789915', 'United States Department of State', 'United States federal executive department\\xa0responsible for foreign affairs', 'https://wikidata.org/wiki/Q789915')\n",
      "('Terrorists', 'ORG') => ('Q1570467', 'Swamp Terrorists', 'band', 'https://wikidata.org/wiki/Q1570467')\n"
     ]
    }
   ],
   "source": [
    "for se, wde in zip(spacy_entities, wd_entities):\n",
    "    print(f\"{se} => {wds.summary(wde)}\")"
   ]
  },
  {
   "cell_type": "markdown",
   "metadata": {},
   "source": [
    "### Noun chunks might correspond to nominal entity mentions or concept mentions\n",
    " but we will have to remove the named entities and filter these to eliminate some and trim others.  Also, co-refefrence will be helpful."
   ]
  },
  {
   "cell_type": "code",
   "execution_count": 14,
   "metadata": {},
   "outputs": [
    {
     "name": "stdout",
     "output_type": "stream",
     "text": [
      "[('The White House', 'NP'), ('Friday', 'NP'), ('a statement', 'NP'), ('a series', 'NP'), ('\"brutal\" attacks', 'NP'), ('West Africa', 'NP'), ('the kidnapping', 'NP'), ('more than 100 schoolgirls', 'NP'), ('murder', 'NP'), ('aid workers', 'NP'), ('Nigeria', 'NP'), ('White House press \\n secretary Sarah Huckabee Sanders', 'NP'), ('the Trump administration\\'s \"deepest sympathies', 'NP'), ('the families', 'NP'), ('\\n friends', 'NP'), ('resolve', 'NP'), ('violent extremists', 'NP'), ('These attacks', 'NP'), ('the resolve', 'NP'), ('the United States', 'NP'), ('responsible nations', 'NP'), ('the world', 'NP'), ('who', 'NP'), ('such heinous acts', 'NP'), ('Sanders', 'NP'), (\"The Trump administration's statement\", 'NP'), ('a terrorist attack', 'NP'), ('Burkina Faso', 'NP'), ('armed Islamist militants', 'NP'), ('the deaths', 'NP'), ('at least eight members', 'NP'), ('local security forces', 'NP'), ('Eight militants', 'NP'), ('Other attacks', 'NP'), ('the region', 'NP'), ('the past month', 'NP'), ('the abduction', 'NP'), ('110 schoolgirls', 'NP'), ('Nigeria', 'NP'), ('Feb.', 'NP'), (\"Wednesday's attack\", 'NP'), ('four United Nations peacekeepers', 'NP'), ('Mali', 'NP'), (\"The militants' targets\", 'NP'), ('Burkina Faso', 'NP'), ('military headquarters', 'NP'), ('the French Embassy', 'NP'), ('The State Department', 'NP'), ('a travel advisory', 'NP'), ('Americans', 'NP'), ('the country', 'NP'), ('Terrorist groups', 'NP'), ('attacks', 'NP'), ('Burkina Faso', 'NP'), ('the State Department', 'NP'), ('Terrorists', 'NP'), ('attacks', 'NP'), ('little or no warning', 'NP'), ('Targets', 'NP'), ('hotels', 'NP'), ('restaurants', 'NP'), ('police stations', 'NP'), ('customs \\n offices', 'NP'), ('military posts', 'NP'), ('schools', 'NP')]\n"
     ]
    }
   ],
   "source": [
    "noun_chunks = [(X.text, X.label_) for X in doc.noun_chunks]\n",
    "print(noun_chunks)"
   ]
  },
  {
   "cell_type": "markdown",
   "metadata": {},
   "source": [
    "fin"
   ]
  }
 ],
 "metadata": {
  "kernelspec": {
   "display_name": "Python 3 (ipykernel)",
   "language": "python",
   "name": "python3"
  },
  "language_info": {
   "codemirror_mode": {
    "name": "ipython",
    "version": 3
   },
   "file_extension": ".py",
   "mimetype": "text/x-python",
   "name": "python",
   "nbconvert_exporter": "python",
   "pygments_lexer": "ipython3",
   "version": "3.9.7"
  }
 },
 "nbformat": 4,
 "nbformat_minor": 2
}
