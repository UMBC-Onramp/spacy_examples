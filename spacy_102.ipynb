{
 "cells": [
  {
   "cell_type": "markdown",
   "metadata": {},
   "source": [
    "## SpaCy 101: doing more and adding pipeline modules\n",
    "\n",
    "[Spacy](https://spacy.io/) is an open-source, multi-lingual NLP library. Its components are not SOTA but they are robust, easy to use and fast.\n",
    "\n",
    "This notebook shows addional things you can do, including adding pipline modules for sentiment analysis and coreference\n",
    "\n",
    "You may need to do the following:\n",
    " * pip install spacy\n",
    " * python -m spacy download en_core_web_md"
   ]
  },
  {
   "cell_type": "code",
   "execution_count": 1,
   "metadata": {},
   "outputs": [],
   "source": [
    "import spacy\n",
    "from spacy import displacy"
   ]
  },
  {
   "cell_type": "markdown",
   "metadata": {},
   "source": [
    "### Load Spacy's medium English language model"
   ]
  },
  {
   "cell_type": "code",
   "execution_count": 2,
   "metadata": {},
   "outputs": [
    {
     "name": "stdout",
     "output_type": "stream",
     "text": [
      "spacy_entity_linker\n"
     ]
    }
   ],
   "source": [
    "nlp = spacy.load(\"en_core_web_md\")"
   ]
  },
  {
   "cell_type": "markdown",
   "metadata": {},
   "source": [
    "### Text similarity via word embeddings is available in the medium and larger language models\n",
    "* values range from 0.0 to 1.0 based on how close the meanings of two pieces of text are"
   ]
  },
  {
   "cell_type": "code",
   "execution_count": 3,
   "metadata": {},
   "outputs": [
    {
     "name": "stdout",
     "output_type": "stream",
     "text": [
      "Similarity of docs 1 and 2: 0.89\n",
      "Similarity of docs 1 and 3: 0.82\n",
      "Similarity of docs 1 and 4: 0.56\n"
     ]
    }
   ],
   "source": [
    "doc1 = nlp(\"A mouse ate my cheese.\")\n",
    "doc2 = nlp(\"Some cheese was eaten by a rodent!\")\n",
    "doc3 = nlp(\"All of the cheddar was eaten by rats!\")\n",
    "doc4 = nlp(\"Computers can analyze language today.\")\n",
    "print(f\"Similarity of docs 1 and 2: {doc1.similarity(doc2):.2f}\")\n",
    "print(f\"Similarity of docs 1 and 3: {doc1.similarity(doc3):.2f}\")\n",
    "print(f\"Similarity of docs 1 and 4: {doc1.similarity(doc4):.2f}\")"
   ]
  },
  {
   "cell_type": "markdown",
   "metadata": {},
   "source": [
    "### It's a simple similarity model that ignores word order, but still useful"
   ]
  },
  {
   "cell_type": "code",
   "execution_count": 4,
   "metadata": {},
   "outputs": [
    {
     "name": "stdout",
     "output_type": "stream",
     "text": [
      "Similarity of doc1 and doc2: 1.00\n"
     ]
    }
   ],
   "source": [
    "doc1 = nlp(\"Alice killed Bob\")\n",
    "doc2 = nlp(\"Bob killed Alice\")\n",
    "print(f\"Similarity of doc1 and doc2: {doc1.similarity(doc2):.2f}\")\n"
   ]
  },
  {
   "cell_type": "code",
   "execution_count": 5,
   "metadata": {},
   "outputs": [],
   "source": [
    "### SpaCY has multiple language models and even the medium one knows when people are similar"
   ]
  },
  {
   "cell_type": "code",
   "execution_count": 6,
   "metadata": {},
   "outputs": [
    {
     "name": "stdout",
     "output_type": "stream",
     "text": [
      "Similarity of Jennifer Aniston and Brad Pitt: 0.67\n",
      "Similarity of Marie Currie and Brad Pitt: 0.48\n"
     ]
    }
   ],
   "source": [
    "doc1 = nlp(\"Jennifer Aniston\")\n",
    "doc2 = nlp(\"Brad Pitt\")\n",
    "doc3 = nlp(\"Marie Currie\")\n",
    "\n",
    "print(f\"Similarity of Jennifer Aniston and Brad Pitt: {doc1.similarity(doc2):.2f}\")\n",
    "print(f\"Similarity of Marie Currie and Brad Pitt: {doc3.similarity(doc2):.2f}\")"
   ]
  },
  {
   "cell_type": "markdown",
   "metadata": {},
   "source": [
    "### Extending the pipeline to compute sentiment expressed of text\n",
    " * [**spaCyTextBlob**](https://spacy.io/universe/project/spacy-textblob) is a simple sentiment analytic that can be added to the pipeline\n",
    " * You need to install it first with ** pip install spacytextblob **\n",
    " * it adds features representing a text span's polarity, subjectivity and assesements\n",
    " * Spacy requires that new attributes on text spans be prefaced by **._.** , see below"
   ]
  },
  {
   "cell_type": "code",
   "execution_count": 7,
   "metadata": {},
   "outputs": [
    {
     "data": {
      "text/plain": [
       "<spacytextblob.spacytextblob.SpacyTextBlob at 0x7f9b73b652b0>"
      ]
     },
     "execution_count": 7,
     "metadata": {},
     "output_type": "execute_result"
    }
   ],
   "source": [
    "from spacytextblob.spacytextblob import SpacyTextBlob\n",
    "nlp.add_pipe('spacytextblob')"
   ]
  },
  {
   "cell_type": "code",
   "execution_count": 8,
   "metadata": {},
   "outputs": [
    {
     "name": "stdout",
     "output_type": "stream",
     "text": [
      "Polarity: -0.70\n",
      "Subjectivity: 0.79\n",
      "Assesments: [(['hated'], -0.9, 0.7, None), (['difficult'], -0.5, 1.0, None), (['bad'], -0.6999999999999998, 0.6666666666666666, None)]\n"
     ]
    }
   ],
   "source": [
    "doc = nlp(\"I hated calculus 2 and had a difficult time. I didn't like the course and got a bad grade.\")\n",
    "print(f\"Polarity: {doc._.polarity:.2f}\")         # -1 to +1\n",
    "print(f\"Subjectivity: {doc._.subjectivity:.2f}\") # 0 to 1.0 with 0 for rational and 1 for emotional\n",
    "print(f\"Assesments: {doc._.assessments}\")        # words that indicate the sentiment"
   ]
  },
  {
   "cell_type": "markdown",
   "metadata": {},
   "source": [
    "### This is an example of a more objective (i.e., non-emotional) expression of  positive sentiment"
   ]
  },
  {
   "cell_type": "code",
   "execution_count": 9,
   "metadata": {},
   "outputs": [
    {
     "name": "stdout",
     "output_type": "stream",
     "text": [
      "Polarity: 0.30\n",
      "Subjectivity: 0.10\n",
      "Assesments: [(['worth'], 0.3, 0.1, None)]\n"
     ]
    }
   ],
   "source": [
    "doc = nlp(\"Tesla's Model 3 is worth the price.\")\n",
    "print(f\"Polarity: {doc._.polarity:.2f}\")         # -1 to +1\n",
    "print(f\"Subjectivity: {doc._.subjectivity:.2f}\") # foo\n",
    "print(f\"Assesments: {doc._.assessments}\")        # bar"
   ]
  },
  {
   "cell_type": "markdown",
   "metadata": {},
   "source": [
    "### Text expressing neither positive nor negative sentiment and is neither objective or subjective"
   ]
  },
  {
   "cell_type": "code",
   "execution_count": 10,
   "metadata": {},
   "outputs": [
    {
     "name": "stdout",
     "output_type": "stream",
     "text": [
      "Polarity: 0.00\n",
      "Subjectivity: 0.50\n",
      "Assesments: [(['open'], 0.0, 0.5, None)]\n"
     ]
    }
   ],
   "source": [
    "doc = nlp(\"The store will open at 9:00 am and close at 5:00 pm.\")\n",
    "print(f\"Polarity: {doc._.polarity:.2f}\")         # -1 to +1\n",
    "print(f\"Subjectivity: {doc._.subjectivity:.2f}\") # foo\n",
    "print(f\"Assesments: {doc._.assessments}\")        # bar"
   ]
  },
  {
   "cell_type": "markdown",
   "metadata": {},
   "source": [
    "### Adding the [Coreferee](https://pypi.org/project/coreferee/) coreference model\n",
    "\n",
    " * Coreference occurs when two or more words in a text refer to the same entity, e.g. **John** went home because **he** was tired. \n",
    " * it's critical for many tasks\n",
    " * using the largest language models yield the best results\n",
    "\n",
    "You will need to pip install these packages to use coreferee on ENglish text\n",
    " * python3 -m pip install coreferee\n",
    " * python3 -m coreferee install en"
   ]
  },
  {
   "cell_type": "code",
   "execution_count": 11,
   "metadata": {},
   "outputs": [
    {
     "data": {
      "text/plain": [
       "<coreferee.manager.CorefereeBroker at 0x7f9b76c46fd0>"
      ]
     },
     "execution_count": 11,
     "metadata": {},
     "output_type": "execute_result"
    }
   ],
   "source": [
    "# import and add to the pipeline\n",
    "import coreferee\n",
    "nlp.add_pipe('coreferee')"
   ]
  },
  {
   "cell_type": "code",
   "execution_count": 12,
   "metadata": {},
   "outputs": [],
   "source": [
    "doc = nlp(\"\"\"Although he was very busy with his work, Peter Piper had had enough of it. \\\n",
    "He and his wife decided they needed a holiday. They travelled to Spain because \\\n",
    "she loved the country very much.\"\"\")"
   ]
  },
  {
   "cell_type": "markdown",
   "metadata": {},
   "source": [
    "A **coref chain** is a list of names, nouns, and or pronouns in the text that refer to the same entity.  Coreferee finds four chains in this text. Note that\n",
    " * The number after each word in in a chain refers to the token in the text; a reference to named entity will be to its last token (e.g., Piper), and some items in the chain are a list (e.g., chaine #2)"
   ]
  },
  {
   "cell_type": "code",
   "execution_count": 13,
   "metadata": {},
   "outputs": [
    {
     "name": "stdout",
     "output_type": "stream",
     "text": [
      "0: he(1), his(6), Piper(10), He(17), his(19)\n",
      "1: work(7), it(15)\n",
      "2: [He(17); wife(20)], they(22), They(27)\n",
      "3: wife(20), she(32)\n",
      "4: Spain(30), country(35)\n"
     ]
    }
   ],
   "source": [
    "doc._.coref_chains.print()"
   ]
  },
  {
   "cell_type": "markdown",
   "metadata": {},
   "source": [
    "Here's a cyber-security relevant example"
   ]
  },
  {
   "cell_type": "code",
   "execution_count": 24,
   "metadata": {},
   "outputs": [
    {
     "name": "stdout",
     "output_type": "stream",
     "text": [
      "Named entities: (China,)\n",
      "Noun chunks: [APT41, a state-sponsored espionage group, It, China, higher education, travel services, media firms, that country]\n",
      "\n",
      "Coreference chains:\n",
      "0: APT41(0), It(9)\n",
      "1: China(13), country(26)\n"
     ]
    }
   ],
   "source": [
    "doc = nlp(\"\"\"APT41 is a state-sponsored espionage group. It is based in China and attacks \\\n",
    "higher education, travel services and media firms from that country.\"\"\")\n",
    "print(f\"Named entities: {doc.ents}\")\n",
    "print(f\"Noun chunks: {[np for np in doc.noun_chunks]}\")\n",
    "print(\"\\nCoreference chains:\")\n",
    "doc._.coref_chains.print()"
   ]
  },
  {
   "cell_type": "markdown",
   "metadata": {},
   "source": [
    "*** \n",
    "*The End*"
   ]
  },
  {
   "cell_type": "code",
   "execution_count": null,
   "metadata": {},
   "outputs": [],
   "source": []
  }
 ],
 "metadata": {
  "kernelspec": {
   "display_name": "Python 3",
   "language": "python",
   "name": "python3"
  },
  "language_info": {
   "codemirror_mode": {
    "name": "ipython",
    "version": 3
   },
   "file_extension": ".py",
   "mimetype": "text/x-python",
   "name": "python",
   "nbconvert_exporter": "python",
   "pygments_lexer": "ipython3",
   "version": "3.8.1"
  }
 },
 "nbformat": 4,
 "nbformat_minor": 2
}
