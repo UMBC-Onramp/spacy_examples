{
 "cells": [
  {
   "cell_type": "markdown",
   "metadata": {},
   "source": [
    "## Extending NER with EntityRuler\n",
    "\n",
    "**This notebook has examples of how to add a rule-based stage to a SpaCy pipeline to handle some cybersecurity-relevant entity types.**\n",
    "\n",
    " * Spacy's entityruller lets us find and type entities based on rules\n",
    " * The rules can be based on a simple enumeration of possible strings or phrases, or on a regular expression\n",
    " * This can be used in addition to patterns learned through training on annotated data\n",
    " * One issue of this approach is that for some categories, like MALWARE_NAME, a mention like \"bad bunny\" could be a malware_name or not (e.g., \"Peter was a bad bunny because he kept getting into Mr. McGregor's garden\"), but if we are mostly processing text from cybersecurity-related sources, this may not be a big problem. \n"
   ]
  },
  {
   "cell_type": "code",
   "execution_count": null,
   "metadata": {},
   "outputs": [],
   "source": [
    "import spacy\n",
    "from spacy import displacy"
   ]
  },
  {
   "cell_type": "markdown",
   "metadata": {},
   "source": [
    "### Load one of Spacy's language models. This is a medium sized one for English"
   ]
  },
  {
   "cell_type": "code",
   "execution_count": 2,
   "metadata": {},
   "outputs": [],
   "source": [
    "nlp = spacy.load(\"en_core_web_md\")"
   ]
  },
  {
   "cell_type": "markdown",
   "metadata": {},
   "source": [
    "### Add an EntityRuler to SpaCy's pipeline\n",
    "We will need to put it before NER in the pipeline or, if we put it after, allow it to overwrite a label found by the NER step.  I'm not sure which is a better choice."
   ]
  },
  {
   "cell_type": "code",
   "execution_count": 3,
   "metadata": {},
   "outputs": [],
   "source": [
    "ruler = nlp.add_pipe(\"entity_ruler\", before=\"ner\")\n",
    "#ruler = nlp.add_pipe(\"entity_ruler\", config = {'overwrite_ents':True})"
   ]
  },
  {
   "cell_type": "markdown",
   "metadata": {},
   "source": [
    "### Add rules to recognze an email address as an EMAIL and a url as a URL"
   ]
  },
  {
   "cell_type": "code",
   "execution_count": 4,
   "metadata": {},
   "outputs": [],
   "source": [
    "patterns = [{\"label\": \"EMAIL\", \"pattern\": [{'LIKE_EMAIL':True}]},\n",
    "            {\"label\": \"URL\", \"pattern\": [{'LIKE_URL':True}]}]         \n",
    "ruler.add_patterns(patterns)"
   ]
  },
  {
   "cell_type": "markdown",
   "metadata": {},
   "source": [
    "### Add rules for known malware names as a MALWARE_NAME\n",
    " * We can collect names esily from Wikidata and other sources.  One problem is that there's new malware all the time and new documents and new are unlinkely to mention a malware instance that was from 10 years ago. Maybe we can use these lists both to recognize malware but also to train the NER system to to recognize them and others."
   ]
  },
  {
   "cell_type": "code",
   "execution_count": 5,
   "metadata": {},
   "outputs": [],
   "source": [
    "pattern = [{\"label\": \"MALWARE_NAME\", \"pattern\": [{'LOWER':\"wannacry\"}]}]\n",
    "ruler.add_patterns(pattern)"
   ]
  },
  {
   "cell_type": "markdown",
   "metadata": {},
   "source": [
    "### Add rules for known malwaye subclasses/types"
   ]
  },
  {
   "cell_type": "code",
   "execution_count": 78,
   "metadata": {},
   "outputs": [],
   "source": [
    "pattern = [{\"label\": \"MALWARE_TYPE\", \"pattern\": [{'LOWER':\"ransomware\"}]}]\n",
    "ruler.add_patterns(pattern)"
   ]
  },
  {
   "cell_type": "markdown",
   "metadata": {},
   "source": [
    "### Add a rule to match a valid IP address or a domain name"
   ]
  },
  {
   "cell_type": "code",
   "execution_count": 6,
   "metadata": {},
   "outputs": [],
   "source": [
    "octet_rx = r'(?:25[0-5]|2[0-4][0-9]|[01]?[0-9][0-9]?)'\n",
    "ip_rx= [ {\"TEXT\": {\"REGEX\": r\"^{0}(?:\\.{0}){{3}}$\".format(octet_rx)}}]\n",
    "ruler.add_patterns([{\"label\":\"IP_ADDRESS\", \"pattern\":ip_rx}])\n",
    "\n",
    "domain_rx = \"^((?!-)[A-Za-z0-9-]{1, 63}(?<!-)\\\\.)+[A-Za-z]{2, 6}$\" \n",
    "ruler.add_patterns([{\"label\":\"DOMAIN_NAME\", \"pattern\":domain_rx}])"
   ]
  },
  {
   "cell_type": "markdown",
   "metadata": {},
   "source": [
    "### Add rule for a MD5 hash value\n",
    " * we can extend the pattern to cover SHA-1, SHA2, etc.  They are just longer."
   ]
  },
  {
   "cell_type": "code",
   "execution_count": 7,
   "metadata": {},
   "outputs": [],
   "source": [
    "md5_rx = [{\"TEXT\": {\"REGEX\": r\"^[0-9a-fA-F]{32}$\"}}]\n",
    "ruler.add_patterns([{\"label\":\"HASH\", \"pattern\":md5_rx}])"
   ]
  },
  {
   "cell_type": "markdown",
   "metadata": {},
   "source": [
    "### Add a rule for a network port\n",
    " * we'll require the word port preceeding a number between 0 and 65535\n",
    " * we'll approximate the number as requiring a string of 1-5 digits"
   ]
  },
  {
   "cell_type": "code",
   "execution_count": 8,
   "metadata": {},
   "outputs": [],
   "source": [
    "port_number_rx = {\"TEXT\": {\"REGEX\": r\"^\\d{1,5}$\"}}\n",
    "ruler.add_patterns([{\"label\":\"PORT\", \"pattern\": [{'LOWER':'port'}, port_number_rx ]}])"
   ]
  },
  {
   "cell_type": "markdown",
   "metadata": {},
   "source": [
    "### Add rule for CVE vulnerability\n",
    " * the simple regex r\"cve-\\d{4}-\\d{4,7}\" won't work because of spacCy's tokenization"
   ]
  },
  {
   "cell_type": "code",
   "execution_count": 23,
   "metadata": {},
   "outputs": [],
   "source": [
    "cve_pat = [{\"LOWER\": {\"REGEX\": r\"cve-\\d{4}\"}}, {\"TEXT\": \"-\"}, {\"TEXT\": {\"REGEX\": r\"\\d{4,7}\"}}]\n",
    "ruler.add_patterns([{\"label\":\"VULNERABILITY\", \"pattern\": cve_pat}])"
   ]
  },
  {
   "cell_type": "markdown",
   "metadata": {},
   "source": [
    "### Add rule for threat actors with names from Wikidata\n",
    "  * this entity rule data was generated by "
   ]
  },
  {
   "cell_type": "code",
   "execution_count": 10,
   "metadata": {},
   "outputs": [],
   "source": [
    "ruler.add_patterns(\n",
    " [\n",
    "  {'label':'THREAT_ACTOR', 'pattern': [{'TEXT':'Lazarus'},{'TEXT':'Group'}]},\n",
    "  {'label':'THREAT_ACTOR', 'pattern': [{'TEXT':'Equation'},{'TEXT':'Group'}]},\n",
    "  {'label':'THREAT_ACTOR', 'pattern': [{'TEXT':'Cozy'},{'TEXT':'Bear'}]}\n",
    " ])"
   ]
  },
  {
   "cell_type": "markdown",
   "metadata": {},
   "source": [
    "### Input some text and run it through the Spacy pipeline"
   ]
  },
  {
   "cell_type": "code",
   "execution_count": 86,
   "metadata": {},
   "outputs": [
    {
     "name": "stdout",
     "output_type": "stream",
     "text": [
      "done!\n"
     ]
    }
   ],
   "source": [
    "text = \"The UMBC website is http://umbc.edu/ and its email address is info@umbc.edu. \\\n",
    "It was taken offline by the WannaCry ransomware which exploited CVE-2017-0144. \\\n",
    "The attack from Cozy Bear came from 71.244.148.58 via port 8080. \\\n",
    "The file hash was 327b6f07435811239bc47e1544353273.\"\n",
    "\n",
    "doc = nlp(text)\n",
    "print(\"done!\")"
   ]
  },
  {
   "cell_type": "markdown",
   "metadata": {},
   "source": [
    "### Display the text marking its entities and their types.  The default types are the 18 types from [Ontonotes](https://catalog.ldc.upenn.edu/docs/LDC2013T19/OntoNotes-Release-5.0.pdf)"
   ]
  },
  {
   "cell_type": "code",
   "execution_count": 87,
   "metadata": {},
   "outputs": [],
   "source": [
    "colors = {'URL': \"#85C1E9\", \"EMAIL\": \"red\", \"MALWARE_NAME\":\"orange\", \"vulnerability\":\"#CAFF70\", \\\n",
    "          \"IP_ADDRESS\":\"#EE82EE\", 'threat_actor':\"#FFB90F\", 'port':'#E0FFFF', 'hash':'#FFFF00', \\\n",
    "          'MALWARE_TYPE':'#3CB371'}"
   ]
  },
  {
   "cell_type": "code",
   "execution_count": 88,
   "metadata": {},
   "outputs": [
    {
     "data": {
      "text/html": [
       "<span class=\"tex2jax_ignore\"><div class=\"entities\" style=\"line-height: 2.5; direction: ltr\">The \n",
       "<mark class=\"entity\" style=\"background: #7aecec; padding: 0.45em 0.6em; margin: 0 0.25em; line-height: 1; border-radius: 0.35em;\">\n",
       "    UMBC\n",
       "    <span style=\"font-size: 0.8em; font-weight: bold; line-height: 1; border-radius: 0.35em; vertical-align: middle; margin-left: 0.5rem\">ORG</span>\n",
       "</mark>\n",
       " website is \n",
       "<mark class=\"entity\" style=\"background: #85C1E9; padding: 0.45em 0.6em; margin: 0 0.25em; line-height: 1; border-radius: 0.35em;\">\n",
       "    http://umbc.edu/\n",
       "    <span style=\"font-size: 0.8em; font-weight: bold; line-height: 1; border-radius: 0.35em; vertical-align: middle; margin-left: 0.5rem\">URL</span>\n",
       "</mark>\n",
       " and its email address is \n",
       "<mark class=\"entity\" style=\"background: red; padding: 0.45em 0.6em; margin: 0 0.25em; line-height: 1; border-radius: 0.35em;\">\n",
       "    info@umbc.edu\n",
       "    <span style=\"font-size: 0.8em; font-weight: bold; line-height: 1; border-radius: 0.35em; vertical-align: middle; margin-left: 0.5rem\">EMAIL</span>\n",
       "</mark>\n",
       ". It was taken offline by the \n",
       "<mark class=\"entity\" style=\"background: orange; padding: 0.45em 0.6em; margin: 0 0.25em; line-height: 1; border-radius: 0.35em;\">\n",
       "    WannaCry\n",
       "    <span style=\"font-size: 0.8em; font-weight: bold; line-height: 1; border-radius: 0.35em; vertical-align: middle; margin-left: 0.5rem\">MALWARE_NAME</span>\n",
       "</mark>\n",
       " \n",
       "<mark class=\"entity\" style=\"background: #3CB371; padding: 0.45em 0.6em; margin: 0 0.25em; line-height: 1; border-radius: 0.35em;\">\n",
       "    ransomware\n",
       "    <span style=\"font-size: 0.8em; font-weight: bold; line-height: 1; border-radius: 0.35em; vertical-align: middle; margin-left: 0.5rem\">MALWARE_TYPE</span>\n",
       "</mark>\n",
       " which exploited \n",
       "<mark class=\"entity\" style=\"background: #CAFF70; padding: 0.45em 0.6em; margin: 0 0.25em; line-height: 1; border-radius: 0.35em;\">\n",
       "    CVE-2017-0144\n",
       "    <span style=\"font-size: 0.8em; font-weight: bold; line-height: 1; border-radius: 0.35em; vertical-align: middle; margin-left: 0.5rem\">VULNERABILITY</span>\n",
       "</mark>\n",
       ". The attack from \n",
       "<mark class=\"entity\" style=\"background: #FFB90F; padding: 0.45em 0.6em; margin: 0 0.25em; line-height: 1; border-radius: 0.35em;\">\n",
       "    Cozy Bear\n",
       "    <span style=\"font-size: 0.8em; font-weight: bold; line-height: 1; border-radius: 0.35em; vertical-align: middle; margin-left: 0.5rem\">THREAT_ACTOR</span>\n",
       "</mark>\n",
       " came from \n",
       "<mark class=\"entity\" style=\"background: #EE82EE; padding: 0.45em 0.6em; margin: 0 0.25em; line-height: 1; border-radius: 0.35em;\">\n",
       "    71.244.148.58\n",
       "    <span style=\"font-size: 0.8em; font-weight: bold; line-height: 1; border-radius: 0.35em; vertical-align: middle; margin-left: 0.5rem\">IP_ADDRESS</span>\n",
       "</mark>\n",
       " via \n",
       "<mark class=\"entity\" style=\"background: #E0FFFF; padding: 0.45em 0.6em; margin: 0 0.25em; line-height: 1; border-radius: 0.35em;\">\n",
       "    port 8080\n",
       "    <span style=\"font-size: 0.8em; font-weight: bold; line-height: 1; border-radius: 0.35em; vertical-align: middle; margin-left: 0.5rem\">PORT</span>\n",
       "</mark>\n",
       ". The file hash was \n",
       "<mark class=\"entity\" style=\"background: #FFFF00; padding: 0.45em 0.6em; margin: 0 0.25em; line-height: 1; border-radius: 0.35em;\">\n",
       "    327b6f07435811239bc47e1544353273\n",
       "    <span style=\"font-size: 0.8em; font-weight: bold; line-height: 1; border-radius: 0.35em; vertical-align: middle; margin-left: 0.5rem\">HASH</span>\n",
       "</mark>\n",
       ".</div></span>"
      ],
      "text/plain": [
       "<IPython.core.display.HTML object>"
      ]
     },
     "metadata": {},
     "output_type": "display_data"
    }
   ],
   "source": [
    "displacy.render(doc, style=\"ent\", options={\"colors\": colors})"
   ]
  },
  {
   "cell_type": "markdown",
   "metadata": {},
   "source": [
    "### *fin*"
   ]
  },
  {
   "cell_type": "code",
   "execution_count": null,
   "metadata": {},
   "outputs": [],
   "source": []
  }
 ],
 "metadata": {
  "kernelspec": {
   "display_name": "Python 3 (ipykernel)",
   "language": "python",
   "name": "python3"
  },
  "language_info": {
   "codemirror_mode": {
    "name": "ipython",
    "version": 3
   },
   "file_extension": ".py",
   "mimetype": "text/x-python",
   "name": "python",
   "nbconvert_exporter": "python",
   "pygments_lexer": "ipython3",
   "version": "3.9.7"
  }
 },
 "nbformat": 4,
 "nbformat_minor": 2
}
