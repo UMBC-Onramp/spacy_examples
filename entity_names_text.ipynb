{
 "cells": [
  {
   "cell_type": "markdown",
   "id": "d593650f",
   "metadata": {},
   "source": [
    "## Getting data from Wikidata for cybersecurity annotattion and pipelines\n",
    " * get malware names, #sites, and alias (#sites is the number of wikipedeia sites with a page on the malware and is a quick way to estimate significance)\n",
    " * get english text from wikipedia via DBpedia for a malware instance\n",
    " * do these for other concepts, like operating systems, exploits, "
   ]
  },
  {
   "cell_type": "code",
   "execution_count": 1,
   "id": "b251dd5e",
   "metadata": {},
   "outputs": [],
   "source": [
    "from SPARQLWrapper import SPARQLWrapper, JSON"
   ]
  },
  {
   "cell_type": "markdown",
   "id": "7d692856",
   "metadata": {},
   "source": [
    "### Code and variables for accessing Wikidata and DBpedia via SPARQL"
   ]
  },
  {
   "cell_type": "code",
   "execution_count": 2,
   "id": "138f6259",
   "metadata": {},
   "outputs": [],
   "source": [
    "# default endpoint and user id for querying wikidata with sparal\n",
    "WIKIDATA_ENDPOINT = \"https://query.wikidata.org/bigdata/namespace/wdq/sparql\"\n",
    "DBPEDIA_ENDPOINT =  \"http://dbpedia.org/sparql\"\n",
    "USER_AGENT = \"Tim.Finin_cyber\"\n",
    "\n",
    "def query_endpoint(query, endpoint=WIKIDATA_ENDPOINT):\n",
    "    \"\"\" send query to endpoint and return response as JSON \"\"\"\n",
    "    sparql = SPARQLWrapper(endpoint, agent=USER_AGENT)\n",
    "    sparql.setReturnFormat(JSON)\n",
    "    sparql.setQuery(query)\n",
    "    return sparql.query().convert()"
   ]
  },
  {
   "cell_type": "markdown",
   "id": "850079f2",
   "metadata": {},
   "source": [
    "### Query to get label, # sites, and aliases for instances of a class"
   ]
  },
  {
   "cell_type": "code",
   "execution_count": 3,
   "id": "813a35b9",
   "metadata": {},
   "outputs": [],
   "source": [
    "la_query = \"\"\"\n",
    "SELECT DISTINCT ?label ?sites (group_concat(distinct ?alias; separator='|') as ?aliases)\n",
    "WHERE {{\n",
    "  ?x wdt:P31/wdt:P279* wd:{QID};\n",
    "     rdfs:label ?label;\n",
    "     wikibase:sitelinks ?sites.\n",
    "  FILTER (?sites >= {MIN})\n",
    "  FILTER(lang(?label) = \"en\").\n",
    "  OPTIONAL {{?x skos:altLabel ?alias. FILTER(lang(?alias)=\"en\") }}\n",
    "  }}\n",
    "GROUP BY ?label ?sites\n",
    "ORDER BY DESC(?sites)\n",
    "\"\"\""
   ]
  },
  {
   "cell_type": "code",
   "execution_count": null,
   "id": "4a2addc8",
   "metadata": {},
   "outputs": [],
   "source": []
  },
  {
   "cell_type": "code",
   "execution_count": 32,
   "id": "51389fb7",
   "metadata": {},
   "outputs": [],
   "source": [
    "subclass_query = \"\"\"\n",
    "SELECT DISTINCT ?label ?sites (group_concat(distinct ?alias; separator='|') as ?aliases)\n",
    "WHERE {{\n",
    "  ?x wdt:P279+ wd:{QID}.\n",
    "  # ?x must have either an instance or a subclass\n",
    "  FILTER (EXISTS {{?y wdt:P31|wdt:P279 ?x}} )\n",
    "  ?x rdfs:label ?label;\n",
    "     wikibase:sitelinks ?sites.\n",
    "  FILTER (?sites >= {MIN})\n",
    "  FILTER(lang(?label) = \"en\").\n",
    "  OPTIONAL {{?x skos:altLabel ?alias. FILTER(lang(?alias)=\"en\") }}\n",
    "  }}\n",
    "GROUP BY ?label ?sites\n",
    "ORDER BY DESC(?sites)\n",
    "\"\"\""
   ]
  },
  {
   "cell_type": "markdown",
   "id": "e6d1232b",
   "metadata": {},
   "source": [
    "### Given the QID of a class, return or print  list of the name, # sites, and aliases of each instance \n",
    "\n",
    " * sites is the number of different Wikipedia sites that have a page for the item.  It's a simple way to estimate the item's importance\n",
    " * for some items, we may want to limit the results to those with a minimum number of Wikipedia sites"
   ]
  },
  {
   "cell_type": "code",
   "execution_count": 40,
   "id": "e25aef96",
   "metadata": {},
   "outputs": [],
   "source": [
    "def get_instance_names(id, min_sites=0):\n",
    "    \"\"\" given a class qid, returns list of name, # sites, and aliases of each instance that has \n",
    "        at least min_sites Wikipedia sites \"\"\"\n",
    "    q = la_query.format(QID=id, MIN=min_sites)\n",
    "    results = query_endpoint(q)\n",
    "    answers = []    \n",
    "    for rs in  results[\"results\"][\"bindings\"]:\n",
    "        label = rs['label']['value'] if 'label' in rs else ''\n",
    "        aliases = rs['aliases']['value'].split('|') if 'aliases' in rs else []\n",
    "        aliases = [] if aliases == [''] else aliases\n",
    "        sites = int(rs['sites']['value'])\n",
    "        answers.append([label, sites] + aliases)\n",
    "    return answers\n",
    "\n",
    "def get_subclass_names(id, min_sites=0):\n",
    "    \"\"\" given a class qid, returns list of name, # sites, and aliases of each instance that has \n",
    "        at least min_sites Wikipedia sites \"\"\"\n",
    "    q = subclass_query.format(QID=id, MIN=min_sites)\n",
    "    results = query_endpoint(q)\n",
    "    answers = []    \n",
    "    for rs in  results[\"results\"][\"bindings\"]:\n",
    "        label = rs['label']['value'] if 'label' in rs else ''\n",
    "        aliases = rs['aliases']['value'].split('|') if 'aliases' in rs else []\n",
    "        aliases = [] if aliases == [''] else aliases\n",
    "        sites = int(rs['sites']['value'])\n",
    "        answers.append([label, sites] + aliases)\n",
    "    return answers\n",
    "\n",
    "def get_instance_qids(QID, min_sites=0):\n",
    "    \"\"\" given a class qid, returns list of qids of each instance that has \n",
    "        at least min_sites Wikipedia sites \"\"\"\n",
    "    q = f\"SELECT DISTINCT ?xid WHERE {{ ?xid wdt:P31/wdt:P279* wd:{QID}; wikibase:sitelinks ?n. FILTER (?n >= {min_sites}) }}\"\n",
    "    results = query_endpoint(q)\n",
    "    answer = []    \n",
    "    for rs in  results[\"results\"][\"bindings\"]:\n",
    "        answer.append(rs['xid']['value'].split('/')[-1])\n",
    "    return answer\n",
    "\n",
    "def write_instance_names(id, min_sites=1, fileName=''):\n",
    "    \"\"\" write tab-seperated data\"\"\"\n",
    "    if not fileName:\n",
    "        fileName = id + '.tsv'\n",
    "    with open(fileName, 'w') as out:\n",
    "        for data in get_instance_names(id):\n",
    "            name = data[0]\n",
    "            sites = data[1]\n",
    "            aliases = '\\t'.join(data[2:])\n",
    "            out.write(f\"{name}\\t{sites}\\t{aliases}\\n\")\n",
    "    return True\n",
    "\n",
    "def write_subclass_names(id, min_sites=1, fileName=''):\n",
    "    \"\"\" write tab-seperated data\"\"\"\n",
    "    if not fileName:\n",
    "        fileName = id + '.tsv'\n",
    "    with open(fileName, 'w') as out:\n",
    "        for data in get_subclass_names(id):\n",
    "            name = data[0]\n",
    "            sites = data[1]\n",
    "            aliases = '\\t'.join(data[2:])\n",
    "            out.write(f\"{name}\\t{sites}\\t{aliases}\\n\")\n",
    "    return True"
   ]
  },
  {
   "cell_type": "markdown",
   "id": "534b3130",
   "metadata": {},
   "source": [
    "### Examples of names we can collect for some concepts\n",
    " * we might use these to create EntityRuler patterns for cubersecurity NER"
   ]
  },
  {
   "cell_type": "code",
   "execution_count": 27,
   "id": "b5761839",
   "metadata": {},
   "outputs": [
    {
     "data": {
      "text/plain": [
       "[['Stuxnet', 37, 'RootkitTmphider', 'W32.Stuxnet', 'W32.Temphid'],\n",
       " ['ILOVEYOU', 36, 'I love you', 'I Love You', 'Love Letter', 'Loveletter'],\n",
       " ['Conficker', 31, 'Kido', 'Downadup', 'Downup'],\n",
       " ['Morris worm', 31, 'Internet worm of November 2, 1988'],\n",
       " ['Pegasus', 29, 'lenguis'],\n",
       " ['Petya', 27, 'GoldenEye', 'NotPetya', 'Petya.2017'],\n",
       " ['Melissa', 26, 'W97M.Melissa.A'],\n",
       " ['Brain', 24, '(c)Brain'],\n",
       " ['CryptoLocker', 22],\n",
       " ['CIH', 21, 'Chernobyl', 'Spacefiller'],\n",
       " ['Flame', 20, 'Flamer', 'Da Flame', 'sKyWIper', 'Skywiper'],\n",
       " ['Code Red', 20]]"
      ]
     },
     "execution_count": 27,
     "metadata": {},
     "output_type": "execute_result"
    }
   ],
   "source": [
    "malware = \"Q14001\"\n",
    "get_instance_names(malware, 20) "
   ]
  },
  {
   "cell_type": "code",
   "execution_count": 8,
   "id": "7b70db68",
   "metadata": {},
   "outputs": [
    {
     "data": {
      "text/plain": [
       "True"
      ]
     },
     "execution_count": 8,
     "metadata": {},
     "output_type": "execute_result"
    }
   ],
   "source": [
    "write_instance_names(\"Q14001\", 10, \"malware.tsv\")"
   ]
  },
  {
   "cell_type": "code",
   "execution_count": 9,
   "id": "fab04142",
   "metadata": {},
   "outputs": [
    {
     "data": {
      "text/plain": [
       "True"
      ]
     },
     "execution_count": 9,
     "metadata": {},
     "output_type": "execute_result"
    }
   ],
   "source": [
    "# Q9135 = operating_system\n",
    "write_instance_names(\"Q9135\", 30, \"os.tsv\")"
   ]
  },
  {
   "cell_type": "code",
   "execution_count": 10,
   "id": "da4c1b10",
   "metadata": {},
   "outputs": [
    {
     "data": {
      "text/plain": [
       "True"
      ]
     },
     "execution_count": 10,
     "metadata": {},
     "output_type": "execute_result"
    }
   ],
   "source": [
    "# exploit (Q11287)\n",
    "write_instance_names(\"Q11287\", 1, \"exploits.tsv\")"
   ]
  },
  {
   "cell_type": "code",
   "execution_count": 11,
   "id": "5b916167",
   "metadata": {},
   "outputs": [
    {
     "data": {
      "text/plain": [
       "True"
      ]
     },
     "execution_count": 11,
     "metadata": {},
     "output_type": "execute_result"
    }
   ],
   "source": [
    "# threat actor (Q28402245)\n",
    "write_instance_names(\"Q28402245\", 1, \"threat_actor.tsv\")\n",
    "# hacker group\n",
    "write_instance_names(\"Q2801262\", 1, \"hacker_group.tsv\")"
   ]
  },
  {
   "cell_type": "markdown",
   "id": "0c48e443",
   "metadata": {},
   "source": [
    "### Get or write subclass names of a concept"
   ]
  },
  {
   "cell_type": "code",
   "execution_count": 38,
   "id": "677ab637",
   "metadata": {},
   "outputs": [
    {
     "data": {
      "text/plain": [
       "[['computer virus', 103, 'virus', 'Malware'],\n",
       " ['Trojan horse', 63, 'Trojan Horse', 'Trojan'],\n",
       " ['computer worm', 55, 'worm', 'worms', 'network worm'],\n",
       " ['ransomware', 55, 'denial-of-access attack', 'ransom software'],\n",
       " ['spyware', 53, 'spying software'],\n",
       " ['rootkit', 46],\n",
       " ['adware', 43],\n",
       " ['keystroke logging',\n",
       "  41,\n",
       "  'keylogger',\n",
       "  'keyboard capturing',\n",
       "  'keyboard logger',\n",
       "  'keylogging',\n",
       "  'keystroke logger'],\n",
       " ['Macro virus', 23],\n",
       " ['scareware', 17],\n",
       " ['mobile virus', 14],\n",
       " ['rogue security software',\n",
       "  13,\n",
       "  'fake antivirus',\n",
       "  'false antivirus',\n",
       "  'fraudware',\n",
       "  'rogue antivirus',\n",
       "  'rogue AV',\n",
       "  'Rogue security software',\n",
       "  'Rouge antivirus']]"
      ]
     },
     "execution_count": 38,
     "metadata": {},
     "output_type": "execute_result"
    }
   ],
   "source": [
    "malware = \"Q14001\"\n",
    "get_subclass_names(malware, 10) "
   ]
  },
  {
   "cell_type": "markdown",
   "id": "e8f16775",
   "metadata": {},
   "source": [
    "### Write file for maleware types (subclasses of Malware)"
   ]
  },
  {
   "cell_type": "code",
   "execution_count": 41,
   "id": "82fa53d5",
   "metadata": {},
   "outputs": [
    {
     "data": {
      "text/plain": [
       "True"
      ]
     },
     "execution_count": 41,
     "metadata": {},
     "output_type": "execute_result"
    }
   ],
   "source": [
    "write_subclass_names(malware, 0, 'malware_types.tsv') "
   ]
  },
  {
   "cell_type": "markdown",
   "id": "ccc8e992",
   "metadata": {},
   "source": [
    "### Get DBpedia abstracts for class instances\n",
    " * query DBpedia to get abstract of cybersecurity class instances that has a minimum number of sites\n",
    " * **write_instance_abstracts** writes one abstract per line to a file\n"
   ]
  },
  {
   "cell_type": "code",
   "execution_count": 15,
   "id": "c7893875",
   "metadata": {},
   "outputs": [],
   "source": [
    "def write_instance_abstracts(id, min_sites=0, fileName=''):\n",
    "    \"\"\" write DBpedia abstract for each class instance to filename\"\"\"\n",
    "    if not fileName:\n",
    "        fileName = id + '_abstracts.txt'\n",
    "    with open(fileName, 'w') as out:\n",
    "        for qid in get_instance_qids(id, min_sites=min_sites):\n",
    "            text = get_instance_abstract(qid)\n",
    "            out.write(text)\n",
    "            out.write('\\n')\n",
    "            \n",
    "def get_instance_abstract(qid):\n",
    "    \"\"\" Get en DBpedia abstract from wikidata qid, returning '' when not available \"\"\"\n",
    "    name = get_en_wikipedia_name(qid)\n",
    "    if not name: \n",
    "        return ''  # exit with '' if no name\n",
    "    name = encode_string(name)\n",
    "    query = f'select ?text where {{dbr:{name} dbo:abstract ?text. FILTER(lang(?text)=\"en\")}}'\n",
    "    results = query_endpoint(query, DBPEDIA_ENDPOINT)\n",
    "    if results[\"results\"][\"bindings\"]:\n",
    "        return results[\"results\"][\"bindings\"][0]['text']['value']\n",
    "    else:\n",
    "        return ''\n",
    "\n",
    "def encode_string(text):\n",
    "    \"\"\" prefix some chars with a backslash for using in a sparql query \"\"\"\n",
    "    for ch in \"\"\"(),'/@\"\"\" :\n",
    "        if ch in text:\n",
    "            text = text.replace(ch,\"\\\\\"+ch)\n",
    "    if text.endswith('.'):\n",
    "        text = text[:-1] + '\\.'\n",
    "    return text\n",
    "\n",
    "def get_en_wikipedia_name(qid):\n",
    "    \"\"\" Given a wikidata QID, get its en Wikipedia name if it has one, else '' \"\"\"\n",
    "    query = f'SELECT ?name {{?art schema:about wd:{qid}; schema:inLanguage \"en\"; schema:name ?name; schema:isPartOf <https://en.wikipedia.org/>.}} LIMIT 1'\n",
    "    results = query_endpoint(query, WIKIDATA_ENDPOINT)\n",
    "    if results[\"results\"][\"bindings\"]:\n",
    "        return results[\"results\"][\"bindings\"][0]['name']['value'].replace(' ', '_')\n",
    "    else:\n",
    "        return ''\n",
    "    \n",
    "def write_instance_abstracts(id, min_sites=0, fileName=''):\n",
    "    \"\"\" write DBpedia abstract for each class instance to filename\"\"\"\n",
    "    if not fileName:\n",
    "        fileName = id + '_abstracts.txt'\n",
    "    with open(fileName, 'w') as out:\n",
    "        for qid in get_instance_qids(id, min_sites=min_sites):\n",
    "            text = get_instance_abstract(qid)\n",
    "            out.write(text)\n",
    "            out.write('\\n')\n",
    "    return True\n"
   ]
  },
  {
   "cell_type": "markdown",
   "id": "b23f8287",
   "metadata": {},
   "source": [
    "### Examples getting text abstracts for malware and threat actors"
   ]
  },
  {
   "cell_type": "code",
   "execution_count": null,
   "id": "9e0a1d44",
   "metadata": {},
   "outputs": [],
   "source": [
    "# example -- get malware instance text for items with >= 4 sites\n",
    "write_instance_abstracts(malware, 4, 'malware_abstracts.txt')"
   ]
  },
  {
   "cell_type": "code",
   "execution_count": null,
   "id": "0424c13b",
   "metadata": {},
   "outputs": [],
   "source": [
    "# example -- get threat actor instance text for items with >= 4 sites\n",
    "write_instance_abstracts(\"Q28402245\", 4, 'threat_actors.txt')"
   ]
  },
  {
   "cell_type": "markdown",
   "id": "69afdbda",
   "metadata": {},
   "source": [
    "### *fin* "
   ]
  }
 ],
 "metadata": {
  "kernelspec": {
   "display_name": "Python 3 (ipykernel)",
   "language": "python",
   "name": "python3"
  },
  "language_info": {
   "codemirror_mode": {
    "name": "ipython",
    "version": 3
   },
   "file_extension": ".py",
   "mimetype": "text/x-python",
   "name": "python",
   "nbconvert_exporter": "python",
   "pygments_lexer": "ipython3",
   "version": "3.9.7"
  }
 },
 "nbformat": 4,
 "nbformat_minor": 5
}
